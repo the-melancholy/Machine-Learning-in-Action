{
 "cells": [
  {
   "cell_type": "code",
   "execution_count": 63,
   "id": "ccd949ee",
   "metadata": {},
   "outputs": [],
   "source": [
    "import matplotlib.pyplot as plt\n",
    "import numpy as np"
   ]
  },
  {
   "cell_type": "code",
   "execution_count": 64,
   "id": "8df67a47",
   "metadata": {},
   "outputs": [],
   "source": [
    "def loadDataSet():\n",
    "    dataMat = []                                                        #创建数据列表\n",
    "    labelMat = []                                                        #创建标签列表\n",
    "    fr = open('iris2class.txt')                                             \n",
    "    for line in fr.readlines():                                           \n",
    "        lineArr = line.strip().split(',')                                    #去回车，放入列表\n",
    "        dataMat.append([eval(lineArr[0]), eval(lineArr[1]),eval(lineArr[2]),eval(lineArr[3])])        #添加数据\n",
    "        labelMat.append(eval(lineArr[4]))                                #添加标签\n",
    "    fr.close()                                                            \n",
    "    return dataMat, labelMat                                            \n"
   ]
  },
  {
   "cell_type": "code",
   "execution_count": 65,
   "id": "418a50b0",
   "metadata": {},
   "outputs": [],
   "source": [
    "def plotDataSet():\n",
    "    dataMat, labelMat = loadDataSet()                                    #加载数据集\n",
    "    dataArr = np.array(dataMat)                                            #转换成numpy的array数组\n",
    "    n = np.shape(dataMat)[0]                                            #数据个数\n",
    "    xcord1 = []; ycord1 = []                                            #正样本\n",
    "    xcord2 = []; ycord2 = []                                            #负样本\n",
    "    for i in range(n):                                                    #根据数据集标签进行分类\n",
    "        if int(labelMat[i]) == 1:\n",
    "            xcord1.append(dataArr[i,1]); ycord1.append(dataArr[i,2])    #1为正样本\n",
    "        else:\n",
    "            xcord2.append(dataArr[i,1]); ycord2.append(dataArr[i,2])    #0为负样本\n",
    "    fig = plt.figure()\n",
    "    ax = fig.add_subplot(111)                                            #添加subplot\n",
    "    ax.scatter(xcord1, ycord1, s = 20, c = 'red', marker = 's',alpha=.5)#绘制正样本\n",
    "    ax.scatter(xcord2, ycord2, s = 20, c = 'green',alpha=.5)            #绘制负样本\n",
    "    plt.title('DataSet')                                                #绘制title\n",
    "    plt.xlabel('x'); plt.ylabel('y')                                    #绘制label\n",
    "    plt.show()                                                            #显示\n",
    "\n"
   ]
  },
  {
   "cell_type": "code",
   "execution_count": 66,
   "id": "924c59af",
   "metadata": {},
   "outputs": [],
   "source": [
    "def sigmoid(inX):\n",
    "    return 1.0 / (1 + np.exp(-inX))"
   ]
  },
  {
   "cell_type": "code",
   "execution_count": 67,
   "id": "b282c5f6",
   "metadata": {},
   "outputs": [],
   "source": [
    "def gradAscent(dataMatIn, classLabels):\n",
    "    dataMatrix = np.mat(dataMatIn)                                        #转换成numpy的mat\n",
    "    labelMat = np.mat(classLabels).transpose()                            #转换成numpy的mat,并进行转置\n",
    "    m, n = np.shape(dataMatrix)                                            #返回dataMatrix的大小。m为行数,n为列数。\n",
    "    alpha = 0.001                                                        #移动步长,也就是学习速率,控制更新的幅度。\n",
    "    maxCycles = 500                                                        #最大迭代次数\n",
    "    weights = np.ones((n,1))\n",
    "    for k in range(maxCycles):\n",
    "        h = sigmoid(dataMatrix * weights)                                #梯度上升矢量化公式\n",
    "        error = labelMat - h\n",
    "        weights = weights + alpha * dataMatrix.transpose() * error\n",
    "    \n",
    "    return weights.getA() \n"
   ]
  },
  {
   "cell_type": "code",
   "execution_count": 69,
   "id": "8c155e16",
   "metadata": {},
   "outputs": [],
   "source": [
    "def plotBestFit(weights):\n",
    "    dataMat, labelMat = loadDataSet()                                    #加载数据集\n",
    "    dataArr = np.array(dataMat)                                            #转换成numpy的array数组\n",
    "    n = np.shape(dataMat)[0]                                            #数据个数\n",
    "    xcord1 = []; ycord1 = []                                            #正样本\n",
    "    xcord2 = []; ycord2 = []                                            #负样本\n",
    "    for i in range(n):                                                    #根据数据集标签进行分类\n",
    "        if int(labelMat[i]) == 1:\n",
    "            xcord1.append(dataArr[i,1]); ycord1.append(dataArr[i,2])    #1为正样本\n",
    "        else:\n",
    "            xcord2.append(dataArr[i,1]); ycord2.append(dataArr[i,2])    #0为负样本\n",
    "    fig = plt.figure()\n",
    "    ax = fig.add_subplot(111)                                            #添加subplot\n",
    "    ax.scatter(xcord1, ycord1, s = 20, c = 'red', marker = 's',alpha=.5)#绘制正样本\n",
    "    ax.scatter(xcord2, ycord2, s = 20, c = 'green',alpha=.5)            #绘制负样本\n",
    "    x = np.arange(-3.0, 3.0, 0.1)\n",
    "    y = (-weights[0] - weights[1] * x) / weights[2]\n",
    "    ax.plot(x, y)\n",
    "    plt.title('BestFit')                                                #绘制title\n",
    "    plt.xlabel('X1'); plt.ylabel('X2')                                    #绘制label\n",
    "    plt.show()       \n"
   ]
  },
  {
   "cell_type": "code",
   "execution_count": 71,
   "id": "e95d7145",
   "metadata": {},
   "outputs": [
    {
     "name": "stdout",
     "output_type": "stream",
     "text": [
      "[[-0.79512817]\n",
      " [-1.34601307]\n",
      " [ 2.56873178]\n",
      " [ 1.78820333]]\n"
     ]
    },
    {
     "data": {
      "image/png": "[encoded data removed]",
      "text/plain": [
       "<Figure size 432x288 with 1 Axes>"
      ]
     },
     "metadata": {
      "needs_background": "light"
     },
     "output_type": "display_data"
    }
   ],
   "source": [
    "if __name__ == '__main__':\n",
    "    dataMat, labelMat = loadDataSet()           \n",
    "    weights = gradAscent(dataMat, labelMat)\n",
    "    print(weights)\n",
    "    plotBestFit(weights)\n"
   ]
  },
  {
   "cell_type": "code",
   "execution_count": null,
   "id": "55b308e8",
   "metadata": {},
   "outputs": [],
   "source": []
  }
 ],
 "metadata": {
  "kernelspec": {
   "display_name": "Python 3 (ipykernel)",
   "language": "python",
   "name": "python3"
  },
  "language_info": {
   "codemirror_mode": {
    "name": "ipython",
    "version": 3
   },
   "file_extension": ".py",
   "mimetype": "text/x-python",
   "name": "python",
   "nbconvert_exporter": "python",
   "pygments_lexer": "ipython3",
   "version": "3.9.12"
  }
 },
 "nbformat": 4,
 "nbformat_minor": 5
}
