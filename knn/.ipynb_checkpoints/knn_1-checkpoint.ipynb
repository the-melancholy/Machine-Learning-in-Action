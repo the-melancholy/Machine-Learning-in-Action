{
 "cells": [
  {
   "cell_type": "code",
   "execution_count": null,
   "id": "7725f22e",
   "metadata": {},
   "outputs": [],
   "source": [
    "import pandas as pd\n",
    "from sklearn.datasets import load_wine\n",
    "from sklearn.model_selection import train_test_split\n",
    "from sklearn.preprocessing import MinMaxScaler\n"
   ]
  },
  {
   "cell_type": "code",
   "execution_count": null,
   "id": "bc0bfa1d",
   "metadata": {},
   "outputs": [],
   "source": [
    "#  距离度量为曼哈顿距离，数据集为load_wine()\n",
    "\n",
    "# 数据集创建，并进行归一化和可视化处理\n",
    "def createDataSet():\n",
    "    # 小数据集获取\n",
    "    wine = load_wine()\n",
    "    # 实例化一个转换器\n",
    "    transfer = MinMaxScaler(feature_range=(0, 1))\n",
    "    # 数据进行归一化处理方便计算\n",
    "    wine_data = transfer.fit_transform(wine['data'])\n",
    "    # 训练集特征值，测试集特征值，训练集目标值，测试集目标值\n",
    "    x_train, x_test, y_train, y_test = train_test_split(wine_data, wine.target, test_size=0.2)\n",
    "    # 数据可视化处理\n",
    "    train_data = pd.DataFrame(data=x_train, columns=wine['feature_names'])\n",
    "    train_data['target'] = y_train\n",
    "    test_data = pd.DataFrame(data=x_test, columns=wine['feature_names'])\n",
    "    test_data['target'] = y_test\n",
    "    test_data = pd.DataFrame(test_data)\n",
    "    return train_data, test_data\n"
   ]
  },
  {
   "cell_type": "code",
   "execution_count": null,
   "id": "b6c1bc62",
   "metadata": {},
   "outputs": [],
   "source": [
    "def classify0(inX, dataSet, labels, k):\n",
    "    result = []\n",
    "    testSize = inX.shape[0]\n",
    "    column = inX.shape[1]\n",
    "    # 对测试集中每个向量进行分类\n",
    "    for i in range(testSize):\n",
    "        # 计算训练集和测试集的曼哈顿距离并列表化\n",
    "        temp = dataSet.iloc[:,:column-1]-inX.iloc[i,:column-1]\n",
    "        dist = list((abs(temp)).sum(1))\n",
    "        # 距离与标签相对应\n",
    "        dlist_l = pd.DataFrame({'dist':dist,'labels':labels})\n",
    "        # print(dlist_l)\n",
    "        # 将距离升序排列\n",
    "        dr = dlist_l.sort_values(by='dist')\n",
    "        # 选出距离最小的K个向量,并对前K个标签进行计数，按降序排列\n",
    "        re = dr[:k].loc[:,'labels'].value_counts()\n",
    "        # 收集每个向量的分类结果\n",
    "        result.append(re.index[0])\n",
    "    return result"
   ]
  },
  {
   "cell_type": "code",
   "execution_count": null,
   "id": "3c537906",
   "metadata": {},
   "outputs": [],
   "source": [
    "if __name__ == '__main__':\n",
    "    train_data, test_data = createDataSet()\n",
    "    result = classify0(test_data,train_data,train_data['target'],5)\n",
    "    print(result)\n",
    "    # 对预测结果与实际结果进行比较\n",
    "    for i in range(test_data.shape[0]):\n",
    "        print(result[i] == test_data['target'][i], end=\" \")"
   ]
  },
  {
   "cell_type": "code",
   "execution_count": null,
   "id": "b25b761b",
   "metadata": {},
   "outputs": [],
   "source": []
  },
  {
   "cell_type": "code",
   "execution_count": null,
   "id": "36fd061e",
   "metadata": {},
   "outputs": [],
   "source": []
  }
 ],
 "metadata": {
  "kernelspec": {
   "display_name": "Python 3 (ipykernel)",
   "language": "python",
   "name": "python3"
  },
  "language_info": {
   "codemirror_mode": {
    "name": "ipython",
    "version": 3
   },
   "file_extension": ".py",
   "mimetype": "text/x-python",
   "name": "python",
   "nbconvert_exporter": "python",
   "pygments_lexer": "ipython3",
   "version": "3.9.12"
  }
 },
 "nbformat": 4,
 "nbformat_minor": 5
}
