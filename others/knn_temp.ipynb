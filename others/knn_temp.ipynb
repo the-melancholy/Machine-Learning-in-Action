{
 "cells": [
  {
   "cell_type": "code",
   "execution_count": 48,
   "id": "9c15f60e",
   "metadata": {},
   "outputs": [],
   "source": [
    "import pandas as pd\n",
    "from sklearn.datasets import load_iris\n",
    "from sklearn.model_selection import train_test_split\n",
    "from sklearn.preprocessing import MinMaxScaler\n",
    "# from sklearn.neighbors import KNeighborsClassifier\n"
   ]
  },
  {
   "cell_type": "code",
   "execution_count": 49,
   "id": "fc11d7eb",
   "metadata": {},
   "outputs": [],
   "source": [
    "# 数据集创建，并进行归一化\n",
    "def createDataSet():\n",
    "    #小数据集获取\n",
    "    iris = load_iris()\n",
    "    # 实例化一个转换器\n",
    "    transfer =  MinMaxScaler(feature_range=(0,1))\n",
    "    # 数据进行归一化处理方便计算\n",
    "    iris_data = transfer.fit_transform(iris['data'])\n",
    "    # 训练集特征值，测试集特征值，训练集目标值，测试集目标值\n",
    "    x_train,x_test,y_train,y_test =train_test_split(iris_data,iris.target,test_size=0.2)\n",
    "    return  x_train,x_test,y_train,y_test"
   ]
  },
  {
   "cell_type": "code",
   "execution_count": 50,
   "id": "b4c5d2ff",
   "metadata": {},
   "outputs": [],
   "source": [
    "# 数据可视化处理\n",
    "def dataFormat(x_train,x_test,y_train,y_test):\n",
    "    f_names=['sepal_length','sepal_width','petal_length','petal_width']\n",
    "    train_data=pd.DataFrame(data=x_train,columns=f_names)\n",
    "    train_data['target'] = y_train\n",
    "    test_data=pd.DataFrame(data=x_test,columns=f_names)\n",
    "    test_data['target'] = y_test\n",
    "    test_data = pd.DataFrame(test_data)\n",
    "    return train_data,test_data\n",
    "\n",
    "    "
   ]
  },
  {
   "cell_type": "code",
   "execution_count": 51,
   "id": "027f98ec",
   "metadata": {},
   "outputs": [],
   "source": [
    "'''\n",
    "    用欧式距离进行数据分类\n",
    "    inX:用于测试分类的输入向量\n",
    "    dataSet:训练集\n",
    "    labels:训练集标签向量\n",
    "    k：最近邻居数\n",
    "    \n",
    "'''\n",
    "\n",
    "def classify0(inX,dataSet,labels,k):\n",
    "    result = []\n",
    "    testSize = inX.shape[0]\n",
    "    column = inX.shape[1]\n",
    "    # 对测试集中每个向量进行分类\n",
    "    for i in range(testSize):\n",
    "        # 计算训练集和测试集的欧氏距离并列表化\n",
    "        temp = dataSet.iloc[:,:column-1]-inX.iloc[i,:column-1]\n",
    "        dist = list(((temp**2).sum(1))**0.5)\n",
    "        # 距离与标签相对于\n",
    "        dlist_l = pd.DataFrame({'dist':dist,'labels':labels})\n",
    "        # print(dlist_l)\n",
    "        # 将距离升序排列\n",
    "        dr = dlist_l.sort_values(by='dist')\n",
    "        # 选出距离最小的K个向量,并对前K个标签进行计数，按降序排列\n",
    "        re = dr[:k].loc[:,'labels'].value_counts()\n",
    "        # 收集每个向量的分类结果\n",
    "        result.append(re.index[0])\n",
    "    return result\n",
    "        \n",
    "        \n",
    "    \n",
    "    \n",
    "    \n",
    "    "
   ]
  },
  {
   "cell_type": "code",
   "execution_count": 52,
   "id": "bbbf2b20",
   "metadata": {},
   "outputs": [
    {
     "name": "stdout",
     "output_type": "stream",
     "text": [
      "False\tTrue\tTrue\tTrue\tTrue\tTrue\tTrue\tTrue\tTrue\tTrue\tTrue\tTrue\tTrue\tTrue\tTrue\tTrue\tTrue\tTrue\tTrue\tTrue\tTrue\tTrue\tTrue\tTrue\tTrue\tFalse\tTrue\tTrue\tTrue\tFalse\t"
     ]
    }
   ],
   "source": [
    "x_train,x_test,y_train,y_test = createDataSet()\n",
    "train_data,test_data = dataFormat(x_train,x_test,y_train,y_test)\n",
    "labels = train_data.iloc[:,4]\n",
    "result = classify0(test_data,train_data,labels,5)\n",
    "# 对预测结果与实际结果进行比较\n",
    "for i in range(test_data.shape[0]):\n",
    "    print(result[i]==test_data['target'][i],end=\"\\t\")\n",
    "\n"
   ]
  },
  {
   "cell_type": "code",
   "execution_count": 53,
   "id": "a985fba6",
   "metadata": {},
   "outputs": [],
   "source": [
    "# rowdata = {'电影名称':['飘','红海行动','流浪地球','三体','红楼梦','西游戏'],\n",
    "#            '打斗镜头':[5,11,10,50,100,110],\n",
    "#            '接吻镜头':[100,80,77,25,20,18],\n",
    "#            '电影类型':['爱情片','爱情片','爱情片','动作片','动作片','动作片']}\n",
    "# movie_data = pd.DataFrame(rowdata)\n",
    "# new_data = [[10,70]]\n",
    "# new_data = pd.DataFrame(data=new_data)\n",
    "# print(new_data)\n",
    "# result_1 = classify0(new_data,movie_data.iloc[:,1:3],movie_data.iloc[:,3],4)\n",
    "# result_1\n"
   ]
  }
 ],
 "metadata": {
  "kernelspec": {
   "display_name": "Python 3 (ipykernel)",
   "language": "python",
   "name": "python3"
  },
  "language_info": {
   "codemirror_mode": {
    "name": "ipython",
    "version": 3
   },
   "file_extension": ".py",
   "mimetype": "text/x-python",
   "name": "python",
   "nbconvert_exporter": "python",
   "pygments_lexer": "ipython3",
   "version": "3.9.12"
  }
 },
 "nbformat": 4,
 "nbformat_minor": 5
}
