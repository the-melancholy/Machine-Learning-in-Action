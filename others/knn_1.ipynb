{
 "cells": [
  {
   "cell_type": "code",
   "execution_count": 2,
   "id": "b8b7e674-b628-41e8-ba03-e886d9923430",
   "metadata": {},
   "outputs": [],
   "source": [
    "import pandas as pd\n"
   ]
  },
  {
   "cell_type": "code",
   "execution_count": 3,
   "id": "9ce46936",
   "metadata": {},
   "outputs": [],
   "source": [
    "rowdata = {'电影名称':['红海行动','流浪地球','三体'],\n",
    "           '打斗镜头':[11,22,33],\n",
    "           '接吻镜头':[55,44,10],\n",
    "           '电影类型':['爱情片','动作片','动作片']}"
   ]
  },
  {
   "cell_type": "code",
   "execution_count": 4,
   "id": "483b4200",
   "metadata": {
    "scrolled": true
   },
   "outputs": [
    {
     "name": "stdout",
     "output_type": "stream",
     "text": [
      "{'电影名称': ['红海行动', '流浪地球', '三体'], '打斗镜头': [11, 22, 33], '接吻镜头': [55, 44, 10], '电影类型': ['爱情片', '动作片', '动作片']}\n"
     ]
    }
   ],
   "source": [
    "print(rowdata)"
   ]
  },
  {
   "cell_type": "code",
   "execution_count": 5,
   "id": "c66d6ad8",
   "metadata": {},
   "outputs": [],
   "source": [
    "movie_data = pd.DataFrame(rowdata)\n"
   ]
  },
  {
   "cell_type": "code",
   "execution_count": 6,
   "id": "c540473e",
   "metadata": {},
   "outputs": [
    {
     "data": {
      "text/html": [
       "<div>\n",
       "<style scoped>\n",
       "    .dataframe tbody tr th:only-of-type {\n",
       "        vertical-align: middle;\n",
       "    }\n",
       "\n",
       "    .dataframe tbody tr th {\n",
       "        vertical-align: top;\n",
       "    }\n",
       "\n",
       "    .dataframe thead th {\n",
       "        text-align: right;\n",
       "    }\n",
       "</style>\n",
       "<table border=\"1\" class=\"dataframe\">\n",
       "  <thead>\n",
       "    <tr style=\"text-align: right;\">\n",
       "      <th></th>\n",
       "      <th>电影名称</th>\n",
       "      <th>打斗镜头</th>\n",
       "      <th>接吻镜头</th>\n",
       "      <th>电影类型</th>\n",
       "    </tr>\n",
       "  </thead>\n",
       "  <tbody>\n",
       "    <tr>\n",
       "      <th>0</th>\n",
       "      <td>红海行动</td>\n",
       "      <td>11</td>\n",
       "      <td>55</td>\n",
       "      <td>爱情片</td>\n",
       "    </tr>\n",
       "    <tr>\n",
       "      <th>1</th>\n",
       "      <td>流浪地球</td>\n",
       "      <td>22</td>\n",
       "      <td>44</td>\n",
       "      <td>动作片</td>\n",
       "    </tr>\n",
       "    <tr>\n",
       "      <th>2</th>\n",
       "      <td>三体</td>\n",
       "      <td>33</td>\n",
       "      <td>10</td>\n",
       "      <td>动作片</td>\n",
       "    </tr>\n",
       "  </tbody>\n",
       "</table>\n",
       "</div>"
      ],
      "text/plain": [
       "   电影名称  打斗镜头  接吻镜头 电影类型\n",
       "0  红海行动    11    55  爱情片\n",
       "1  流浪地球    22    44  动作片\n",
       "2    三体    33    10  动作片"
      ]
     },
     "execution_count": 6,
     "metadata": {},
     "output_type": "execute_result"
    }
   ],
   "source": [
    "movie_data"
   ]
  },
  {
   "cell_type": "code",
   "execution_count": 7,
   "id": "a80b483f",
   "metadata": {},
   "outputs": [
    {
     "data": {
      "text/html": [
       "<div>\n",
       "<style scoped>\n",
       "    .dataframe tbody tr th:only-of-type {\n",
       "        vertical-align: middle;\n",
       "    }\n",
       "\n",
       "    .dataframe tbody tr th {\n",
       "        vertical-align: top;\n",
       "    }\n",
       "\n",
       "    .dataframe thead th {\n",
       "        text-align: right;\n",
       "    }\n",
       "</style>\n",
       "<table border=\"1\" class=\"dataframe\">\n",
       "  <thead>\n",
       "    <tr style=\"text-align: right;\">\n",
       "      <th></th>\n",
       "      <th>打斗镜头</th>\n",
       "      <th>接吻镜头</th>\n",
       "    </tr>\n",
       "  </thead>\n",
       "  <tbody>\n",
       "    <tr>\n",
       "      <th>0</th>\n",
       "      <td>11</td>\n",
       "      <td>55</td>\n",
       "    </tr>\n",
       "    <tr>\n",
       "      <th>1</th>\n",
       "      <td>22</td>\n",
       "      <td>44</td>\n",
       "    </tr>\n",
       "    <tr>\n",
       "      <th>2</th>\n",
       "      <td>33</td>\n",
       "      <td>10</td>\n",
       "    </tr>\n",
       "  </tbody>\n",
       "</table>\n",
       "</div>"
      ],
      "text/plain": [
       "   打斗镜头  接吻镜头\n",
       "0    11    55\n",
       "1    22    44\n",
       "2    33    10"
      ]
     },
     "execution_count": 7,
     "metadata": {},
     "output_type": "execute_result"
    }
   ],
   "source": [
    "movie_data.iloc[:3,1:3]"
   ]
  },
  {
   "cell_type": "code",
   "execution_count": 8,
   "id": "3ead6fc6",
   "metadata": {},
   "outputs": [
    {
     "name": "stdout",
     "output_type": "stream",
     "text": [
      "   打斗镜头  接吻镜头\n",
      "0     9    25\n",
      "1    20    14\n",
      "2    31   -20\n"
     ]
    }
   ],
   "source": [
    "new_data=[2,30]\n",
    "print(movie_data.iloc[:3,1:3]-new_data)"
   ]
  },
  {
   "cell_type": "code",
   "execution_count": 9,
   "id": "5f862954",
   "metadata": {},
   "outputs": [
    {
     "data": {
      "text/html": [
       "<div>\n",
       "<style scoped>\n",
       "    .dataframe tbody tr th:only-of-type {\n",
       "        vertical-align: middle;\n",
       "    }\n",
       "\n",
       "    .dataframe tbody tr th {\n",
       "        vertical-align: top;\n",
       "    }\n",
       "\n",
       "    .dataframe thead th {\n",
       "        text-align: right;\n",
       "    }\n",
       "</style>\n",
       "<table border=\"1\" class=\"dataframe\">\n",
       "  <thead>\n",
       "    <tr style=\"text-align: right;\">\n",
       "      <th></th>\n",
       "      <th>打斗镜头</th>\n",
       "      <th>接吻镜头</th>\n",
       "    </tr>\n",
       "  </thead>\n",
       "  <tbody>\n",
       "    <tr>\n",
       "      <th>0</th>\n",
       "      <td>81</td>\n",
       "      <td>625</td>\n",
       "    </tr>\n",
       "    <tr>\n",
       "      <th>1</th>\n",
       "      <td>400</td>\n",
       "      <td>196</td>\n",
       "    </tr>\n",
       "    <tr>\n",
       "      <th>2</th>\n",
       "      <td>961</td>\n",
       "      <td>400</td>\n",
       "    </tr>\n",
       "  </tbody>\n",
       "</table>\n",
       "</div>"
      ],
      "text/plain": [
       "   打斗镜头  接吻镜头\n",
       "0    81   625\n",
       "1   400   196\n",
       "2   961   400"
      ]
     },
     "execution_count": 9,
     "metadata": {},
     "output_type": "execute_result"
    }
   ],
   "source": [
    "# 分别计算(x1-x2)的平方 (y1-y2)的平方\n",
    "(movie_data.iloc[:3,1:3]-new_data)**2"
   ]
  },
  {
   "cell_type": "code",
   "execution_count": 10,
   "id": "811a5162",
   "metadata": {},
   "outputs": [],
   "source": [
    "#计算欧式距离\n",
    "dist=list((((movie_data.iloc[:3,1:3]-new_data)**2).sum(1))**0.5)"
   ]
  },
  {
   "cell_type": "code",
   "execution_count": 11,
   "id": "608fbade",
   "metadata": {},
   "outputs": [
    {
     "data": {
      "text/plain": [
       "[26.570660511172846, 24.413111231467404, 36.89173349139343]"
      ]
     },
     "execution_count": 11,
     "metadata": {},
     "output_type": "execute_result"
    }
   ],
   "source": [
    "dist"
   ]
  },
  {
   "cell_type": "code",
   "execution_count": 12,
   "id": "57f1daa9",
   "metadata": {},
   "outputs": [],
   "source": [
    "# 将距离与电影的标签相对应"
   ]
  },
  {
   "cell_type": "code",
   "execution_count": 13,
   "id": "09d20bd3",
   "metadata": {},
   "outputs": [],
   "source": [
    "dlist_l = pd.DataFrame({'dist':dist,'labels':(movie_data.iloc[:3,3] )})"
   ]
  },
  {
   "cell_type": "code",
   "execution_count": 14,
   "id": "e87519d2",
   "metadata": {},
   "outputs": [
    {
     "data": {
      "text/html": [
       "<div>\n",
       "<style scoped>\n",
       "    .dataframe tbody tr th:only-of-type {\n",
       "        vertical-align: middle;\n",
       "    }\n",
       "\n",
       "    .dataframe tbody tr th {\n",
       "        vertical-align: top;\n",
       "    }\n",
       "\n",
       "    .dataframe thead th {\n",
       "        text-align: right;\n",
       "    }\n",
       "</style>\n",
       "<table border=\"1\" class=\"dataframe\">\n",
       "  <thead>\n",
       "    <tr style=\"text-align: right;\">\n",
       "      <th></th>\n",
       "      <th>dist</th>\n",
       "      <th>labels</th>\n",
       "    </tr>\n",
       "  </thead>\n",
       "  <tbody>\n",
       "    <tr>\n",
       "      <th>0</th>\n",
       "      <td>26.570661</td>\n",
       "      <td>爱情片</td>\n",
       "    </tr>\n",
       "    <tr>\n",
       "      <th>1</th>\n",
       "      <td>24.413111</td>\n",
       "      <td>动作片</td>\n",
       "    </tr>\n",
       "    <tr>\n",
       "      <th>2</th>\n",
       "      <td>36.891733</td>\n",
       "      <td>动作片</td>\n",
       "    </tr>\n",
       "  </tbody>\n",
       "</table>\n",
       "</div>"
      ],
      "text/plain": [
       "        dist labels\n",
       "0  26.570661    爱情片\n",
       "1  24.413111    动作片\n",
       "2  36.891733    动作片"
      ]
     },
     "execution_count": 14,
     "metadata": {},
     "output_type": "execute_result"
    }
   ],
   "source": [
    "dlist_l"
   ]
  },
  {
   "cell_type": "code",
   "execution_count": 15,
   "id": "2290561e",
   "metadata": {},
   "outputs": [],
   "source": [
    "#将距离升序排列"
   ]
  },
  {
   "cell_type": "code",
   "execution_count": 16,
   "id": "8f14cc10",
   "metadata": {},
   "outputs": [
    {
     "data": {
      "text/html": [
       "<div>\n",
       "<style scoped>\n",
       "    .dataframe tbody tr th:only-of-type {\n",
       "        vertical-align: middle;\n",
       "    }\n",
       "\n",
       "    .dataframe tbody tr th {\n",
       "        vertical-align: top;\n",
       "    }\n",
       "\n",
       "    .dataframe thead th {\n",
       "        text-align: right;\n",
       "    }\n",
       "</style>\n",
       "<table border=\"1\" class=\"dataframe\">\n",
       "  <thead>\n",
       "    <tr style=\"text-align: right;\">\n",
       "      <th></th>\n",
       "      <th>dist</th>\n",
       "      <th>labels</th>\n",
       "    </tr>\n",
       "  </thead>\n",
       "  <tbody>\n",
       "    <tr>\n",
       "      <th>1</th>\n",
       "      <td>24.413111</td>\n",
       "      <td>动作片</td>\n",
       "    </tr>\n",
       "    <tr>\n",
       "      <th>0</th>\n",
       "      <td>26.570661</td>\n",
       "      <td>爱情片</td>\n",
       "    </tr>\n",
       "    <tr>\n",
       "      <th>2</th>\n",
       "      <td>36.891733</td>\n",
       "      <td>动作片</td>\n",
       "    </tr>\n",
       "  </tbody>\n",
       "</table>\n",
       "</div>"
      ],
      "text/plain": [
       "        dist labels\n",
       "1  24.413111    动作片\n",
       "0  26.570661    爱情片\n",
       "2  36.891733    动作片"
      ]
     },
     "execution_count": 16,
     "metadata": {},
     "output_type": "execute_result"
    }
   ],
   "source": [
    "dr = dlist_l.sort_values(by='dist')\n",
    "dr"
   ]
  },
  {
   "cell_type": "code",
   "execution_count": 17,
   "id": "4bbf4552",
   "metadata": {},
   "outputs": [],
   "source": [
    "# 选取最小的K个点"
   ]
  },
  {
   "cell_type": "code",
   "execution_count": 18,
   "id": "c43d9959",
   "metadata": {},
   "outputs": [
    {
     "data": {
      "text/html": [
       "<div>\n",
       "<style scoped>\n",
       "    .dataframe tbody tr th:only-of-type {\n",
       "        vertical-align: middle;\n",
       "    }\n",
       "\n",
       "    .dataframe tbody tr th {\n",
       "        vertical-align: top;\n",
       "    }\n",
       "\n",
       "    .dataframe thead th {\n",
       "        text-align: right;\n",
       "    }\n",
       "</style>\n",
       "<table border=\"1\" class=\"dataframe\">\n",
       "  <thead>\n",
       "    <tr style=\"text-align: right;\">\n",
       "      <th></th>\n",
       "      <th>dist</th>\n",
       "      <th>labels</th>\n",
       "    </tr>\n",
       "  </thead>\n",
       "  <tbody>\n",
       "    <tr>\n",
       "      <th>1</th>\n",
       "      <td>24.413111</td>\n",
       "      <td>动作片</td>\n",
       "    </tr>\n",
       "    <tr>\n",
       "      <th>0</th>\n",
       "      <td>26.570661</td>\n",
       "      <td>爱情片</td>\n",
       "    </tr>\n",
       "  </tbody>\n",
       "</table>\n",
       "</div>"
      ],
      "text/plain": [
       "        dist labels\n",
       "1  24.413111    动作片\n",
       "0  26.570661    爱情片"
      ]
     },
     "execution_count": 18,
     "metadata": {},
     "output_type": "execute_result"
    }
   ],
   "source": [
    "dr[:2]"
   ]
  },
  {
   "cell_type": "code",
   "execution_count": 19,
   "id": "5f1ca35e",
   "metadata": {},
   "outputs": [],
   "source": [
    "# 确定前k个点的类别"
   ]
  },
  {
   "cell_type": "code",
   "execution_count": 20,
   "id": "4344f31f",
   "metadata": {},
   "outputs": [
    {
     "data": {
      "text/plain": [
       "动作片    2\n",
       "爱情片    1\n",
       "Name: labels, dtype: int64"
      ]
     },
     "execution_count": 20,
     "metadata": {},
     "output_type": "execute_result"
    }
   ],
   "source": [
    "re = dr.loc[:,'labels'].value_counts()\n",
    "re"
   ]
  },
  {
   "cell_type": "code",
   "execution_count": 21,
   "id": "90099c30",
   "metadata": {},
   "outputs": [],
   "source": [
    "#re的结果是递减的，所有数量最多的索引是0"
   ]
  },
  {
   "cell_type": "code",
   "execution_count": 22,
   "id": "a7fa5c3e",
   "metadata": {},
   "outputs": [
    {
     "data": {
      "text/plain": [
       "'动作片'"
      ]
     },
     "execution_count": 22,
     "metadata": {},
     "output_type": "execute_result"
    }
   ],
   "source": [
    "re.index[0]"
   ]
  },
  {
   "cell_type": "code",
   "execution_count": 23,
   "id": "87d9a6c6",
   "metadata": {},
   "outputs": [],
   "source": [
    "#结果进行收集"
   ]
  },
  {
   "cell_type": "code",
   "execution_count": 24,
   "id": "5700a087",
   "metadata": {},
   "outputs": [
    {
     "data": {
      "text/plain": [
       "['动作片']"
      ]
     },
     "execution_count": 24,
     "metadata": {},
     "output_type": "execute_result"
    }
   ],
   "source": [
    "result=[]\n",
    "result.append(re.index[0])\n",
    "result"
   ]
  },
  {
   "cell_type": "markdown",
   "id": "76af1bd2",
   "metadata": {},
   "source": [
    "## 2.封装函数\n",
    "\n"
   ]
  },
  {
   "cell_type": "code",
   "execution_count": 25,
   "id": "da806793",
   "metadata": {},
   "outputs": [],
   "source": [
    "'''\n",
    "   函数功能：KNN分类器\n",
    "   参数说明：\n",
    "        newdata:需要预测的数据集\n",
    "        dataSet已知分类标签的数据集\n",
    "        k：距离最小的k个点\n",
    "    返回：\n",
    "        result：分类结果\n",
    "'''\n",
    "\n",
    "import pandas as pd\n",
    "def classfy0(newdata,dataSet,k):\n",
    "    result=[]\n",
    "    dist=list((((movie_data.iloc[:3,1:3]-new_data)**2).sum(1))**0.5)\n",
    "    dlist_l = pd.DataFrame({'dist':dist,'labels':(movie_data.iloc[:3,3] )})\n",
    "    dr = dlist_l.sort_values(by='dist')[:k]\n",
    "    re = dr.loc[:,'labels'].value_counts()\n",
    "    result.append(re.index[0])\n",
    "    return result\n",
    "    \n",
    "    \n",
    "    "
   ]
  },
  {
   "cell_type": "code",
   "execution_count": 26,
   "id": "50f5213a",
   "metadata": {},
   "outputs": [
    {
     "data": {
      "text/plain": [
       "['动作片']"
      ]
     },
     "execution_count": 26,
     "metadata": {},
     "output_type": "execute_result"
    }
   ],
   "source": [
    "newdata = new_data\n",
    "dataSet = movie_data\n",
    "k=2\n",
    "classfy0(newdata,dataSet,k)"
   ]
  }
 ],
 "metadata": {
  "kernelspec": {
   "display_name": "Python 3 (ipykernel)",
   "language": "python",
   "name": "python3"
  },
  "language_info": {
   "codemirror_mode": {
    "name": "ipython",
    "version": 3
   },
   "file_extension": ".py",
   "mimetype": "text/x-python",
   "name": "python",
   "nbconvert_exporter": "python",
   "pygments_lexer": "ipython3",
   "version": "3.9.12"
  }
 },
 "nbformat": 4,
 "nbformat_minor": 5
}
