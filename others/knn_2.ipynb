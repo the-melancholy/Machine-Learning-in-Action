{
 "cells": [
  {
   "cell_type": "code",
   "execution_count": 39,
   "id": "d2bb7e43",
   "metadata": {},
   "outputs": [],
   "source": [
    "%matplotlib inline\n",
    "import seaborn as sns\n",
    "import matplotlib.pyplot as plt\n",
    "import pandas as pd\n",
    "from sklearn.datasets import load_iris\n",
    "from sklearn.model_selection import train_test_split\n",
    "from sklearn.preprocessing import StandardScaler\n",
    "from sklearn.neighbors import KNeighborsClassifier\n"
   ]
  },
  {
   "cell_type": "code",
   "execution_count": 40,
   "id": "47d08e4d",
   "metadata": {},
   "outputs": [],
   "source": [
    "#小数据集获取\n",
    "iris = load_iris()\n"
   ]
  },
  {
   "cell_type": "code",
   "execution_count": 41,
   "id": "8d189c51",
   "metadata": {},
   "outputs": [],
   "source": [
    "# print(\"鸢尾花的特征名字:\\n\",iris.feature_names)\n",
    "# print(\"鸢尾花的特征值:\\n\",iris.data)\n",
    "# print(\"鸢尾花的目标名字:\\n\",iris.target_names)\n",
    "# print(\"鸢尾花的目标值:\\n\",iris.target)\n",
    "\n"
   ]
  },
  {
   "cell_type": "markdown",
   "id": "1a6136a6",
   "metadata": {},
   "source": [
    "## 2.数据格式化"
   ]
  },
  {
   "cell_type": "code",
   "execution_count": 42,
   "id": "630a0e47",
   "metadata": {},
   "outputs": [
    {
     "data": {
      "text/html": [
       "<div>\n",
       "<style scoped>\n",
       "    .dataframe tbody tr th:only-of-type {\n",
       "        vertical-align: middle;\n",
       "    }\n",
       "\n",
       "    .dataframe tbody tr th {\n",
       "        vertical-align: top;\n",
       "    }\n",
       "\n",
       "    .dataframe thead th {\n",
       "        text-align: right;\n",
       "    }\n",
       "</style>\n",
       "<table border=\"1\" class=\"dataframe\">\n",
       "  <thead>\n",
       "    <tr style=\"text-align: right;\">\n",
       "      <th></th>\n",
       "      <th>sepal_length</th>\n",
       "      <th>sepal_width</th>\n",
       "      <th>petal_length</th>\n",
       "      <th>petal_width</th>\n",
       "      <th>target</th>\n",
       "    </tr>\n",
       "  </thead>\n",
       "  <tbody>\n",
       "    <tr>\n",
       "      <th>0</th>\n",
       "      <td>5.1</td>\n",
       "      <td>3.5</td>\n",
       "      <td>1.4</td>\n",
       "      <td>0.2</td>\n",
       "      <td>0</td>\n",
       "    </tr>\n",
       "    <tr>\n",
       "      <th>1</th>\n",
       "      <td>4.9</td>\n",
       "      <td>3.0</td>\n",
       "      <td>1.4</td>\n",
       "      <td>0.2</td>\n",
       "      <td>0</td>\n",
       "    </tr>\n",
       "    <tr>\n",
       "      <th>2</th>\n",
       "      <td>4.7</td>\n",
       "      <td>3.2</td>\n",
       "      <td>1.3</td>\n",
       "      <td>0.2</td>\n",
       "      <td>0</td>\n",
       "    </tr>\n",
       "    <tr>\n",
       "      <th>3</th>\n",
       "      <td>4.6</td>\n",
       "      <td>3.1</td>\n",
       "      <td>1.5</td>\n",
       "      <td>0.2</td>\n",
       "      <td>0</td>\n",
       "    </tr>\n",
       "    <tr>\n",
       "      <th>4</th>\n",
       "      <td>5.0</td>\n",
       "      <td>3.6</td>\n",
       "      <td>1.4</td>\n",
       "      <td>0.2</td>\n",
       "      <td>0</td>\n",
       "    </tr>\n",
       "    <tr>\n",
       "      <th>...</th>\n",
       "      <td>...</td>\n",
       "      <td>...</td>\n",
       "      <td>...</td>\n",
       "      <td>...</td>\n",
       "      <td>...</td>\n",
       "    </tr>\n",
       "    <tr>\n",
       "      <th>145</th>\n",
       "      <td>6.7</td>\n",
       "      <td>3.0</td>\n",
       "      <td>5.2</td>\n",
       "      <td>2.3</td>\n",
       "      <td>2</td>\n",
       "    </tr>\n",
       "    <tr>\n",
       "      <th>146</th>\n",
       "      <td>6.3</td>\n",
       "      <td>2.5</td>\n",
       "      <td>5.0</td>\n",
       "      <td>1.9</td>\n",
       "      <td>2</td>\n",
       "    </tr>\n",
       "    <tr>\n",
       "      <th>147</th>\n",
       "      <td>6.5</td>\n",
       "      <td>3.0</td>\n",
       "      <td>5.2</td>\n",
       "      <td>2.0</td>\n",
       "      <td>2</td>\n",
       "    </tr>\n",
       "    <tr>\n",
       "      <th>148</th>\n",
       "      <td>6.2</td>\n",
       "      <td>3.4</td>\n",
       "      <td>5.4</td>\n",
       "      <td>2.3</td>\n",
       "      <td>2</td>\n",
       "    </tr>\n",
       "    <tr>\n",
       "      <th>149</th>\n",
       "      <td>5.9</td>\n",
       "      <td>3.0</td>\n",
       "      <td>5.1</td>\n",
       "      <td>1.8</td>\n",
       "      <td>2</td>\n",
       "    </tr>\n",
       "  </tbody>\n",
       "</table>\n",
       "<p>150 rows × 5 columns</p>\n",
       "</div>"
      ],
      "text/plain": [
       "     sepal_length  sepal_width  petal_length  petal_width  target\n",
       "0             5.1          3.5           1.4          0.2       0\n",
       "1             4.9          3.0           1.4          0.2       0\n",
       "2             4.7          3.2           1.3          0.2       0\n",
       "3             4.6          3.1           1.5          0.2       0\n",
       "4             5.0          3.6           1.4          0.2       0\n",
       "..            ...          ...           ...          ...     ...\n",
       "145           6.7          3.0           5.2          2.3       2\n",
       "146           6.3          2.5           5.0          1.9       2\n",
       "147           6.5          3.0           5.2          2.0       2\n",
       "148           6.2          3.4           5.4          2.3       2\n",
       "149           5.9          3.0           5.1          1.8       2\n",
       "\n",
       "[150 rows x 5 columns]"
      ]
     },
     "execution_count": 42,
     "metadata": {},
     "output_type": "execute_result"
    }
   ],
   "source": [
    "#f_names为特征名称\n",
    "f_names=['sepal_length',\n",
    " 'sepal_width',\n",
    " 'petal_length',\n",
    " 'petal_width']\n",
    "iris_data=pd.DataFrame(data=iris.data,columns=f_names)\n",
    "iris_data['target'] = iris.target\n",
    "iris_data"
   ]
  },
  {
   "cell_type": "markdown",
   "id": "c463ab3f",
   "metadata": {},
   "source": [
    "## 3.数据可视化"
   ]
  },
  {
   "cell_type": "code",
   "execution_count": null,
   "id": "db2cf970",
   "metadata": {
    "scrolled": true
   },
   "outputs": [],
   "source": [
    "def iris_plot0(data,col1,col2):\n",
    "    sns.lmplot(x=col1,y=col2,data=data,\n",
    "               hue=\"target\",fit_reg=False)\n",
    "    \n",
    "    plt.show()\n",
    "iris_plot0(iris_data,\"sepal_length\",\"petal_width\")"
   ]
  },
  {
   "cell_type": "code",
   "execution_count": null,
   "id": "a102e63b",
   "metadata": {},
   "outputs": [],
   "source": [
    "'''\n",
    "hue：目标值是什么\n",
    "fit_reg: 是否进行线性拟合\n",
    "'''\n",
    "\n",
    "    "
   ]
  },
  {
   "cell_type": "code",
   "execution_count": null,
   "id": "514d9574",
   "metadata": {},
   "outputs": [],
   "source": [
    "def iris_plot1(data,col1,col2):\n",
    "    sns.lmplot(x=col1,y=col2,data=data,\n",
    "               hue=\"target\",fit_reg=False)\n",
    "    plt.title(\"鸢尾花数据展示\")\n",
    "    pt.xlabel(col1)\n",
    "    plt.ylabel(col2)\n",
    "    plt.show()\n",
    "iris_plot(iris_data,\"sepal_length\",\"petal_width\")"
   ]
  },
  {
   "cell_type": "markdown",
   "id": "4ec94ab6",
   "metadata": {},
   "source": [
    "## 4.数据集的划分"
   ]
  },
  {
   "cell_type": "code",
   "execution_count": null,
   "id": "12f73e14",
   "metadata": {},
   "outputs": [],
   "source": [
    "# 特征值训练集，特征值测试集，目标值训练集，目标值测试集\n",
    "x_train,x_test,y_train,y_test =train_test_split(iris.data,\n",
    "        iris.target,test_size=0.2)\n",
    "# print(\"训练集的特征值:\\n\",x_train)\n",
    "# print(\"测试集的特征值:\\n\",x_test)\n",
    "# print(\"训练集的目标值:\\n\",y_train)\n",
    "# print(\"测试集的目标值:\\n\",y_test)\n",
    "\n",
    "\n"
   ]
  },
  {
   "cell_type": "code",
   "execution_count": null,
   "id": "7edba8ad",
   "metadata": {},
   "outputs": [],
   "source": [
    "print(\"训练集的目标值形状：\\n\",y_train.shape)\n",
    "print(\"测试集的目标值形状：\\n\",y_test.shape)\n",
    "\n"
   ]
  },
  {
   "cell_type": "markdown",
   "id": "670ab2d8",
   "metadata": {},
   "source": []
  }
 ],
 "metadata": {
  "kernelspec": {
   "display_name": "Python 3 (ipykernel)",
   "language": "python",
   "name": "python3"
  },
  "language_info": {
   "codemirror_mode": {
    "name": "ipython",
    "version": 3
   },
   "file_extension": ".py",
   "mimetype": "text/x-python",
   "name": "python",
   "nbconvert_exporter": "python",
   "pygments_lexer": "ipython3",
   "version": "3.9.12"
  }
 },
 "nbformat": 4,
 "nbformat_minor": 5
}
