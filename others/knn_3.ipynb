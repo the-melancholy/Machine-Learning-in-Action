{
 "cells": [
  {
   "cell_type": "code",
   "execution_count": 1,
   "id": "a91887c9",
   "metadata": {},
   "outputs": [],
   "source": [
    "from sklearn.datasets import load_iris\n",
    "from sklearn.model_selection import train_test_split\n",
    "from sklearn.preprocessing import StandardScaler\n",
    "from sklearn.neighbors import KNeighborsClassifier"
   ]
  },
  {
   "cell_type": "code",
   "execution_count": 2,
   "id": "1e88d0ba",
   "metadata": {},
   "outputs": [],
   "source": [
    "#小数据集获取\n",
    "iris = load_iris()\n"
   ]
  },
  {
   "cell_type": "code",
   "execution_count": 3,
   "id": "8481bff3",
   "metadata": {},
   "outputs": [],
   "source": [
    "# 特征值训练集，特征值测试集，目标值训练集，目标值测试集\n",
    "x_train,x_test,y_train,y_test =train_test_split(iris.data,\n",
    "        iris.target,test_size=0.2)"
   ]
  },
  {
   "cell_type": "code",
   "execution_count": 4,
   "id": "fbc1c8dc",
   "metadata": {},
   "outputs": [],
   "source": [
    "# 实例化一个转换器\n",
    "transfer = StandardScaler()\n",
    "x_train = transfer.fit_transform(x_train)\n",
    "x_test = transfer.fit_transform(x_test)"
   ]
  },
  {
   "cell_type": "markdown",
   "id": "142406b9",
   "metadata": {},
   "source": [
    "## 4.机器学习"
   ]
  },
  {
   "cell_type": "code",
   "execution_count": 6,
   "id": "06cb45f2",
   "metadata": {},
   "outputs": [],
   "source": [
    "# 实例化一个估计器\n",
    "estimator = KNeighborsClassifier(n_neighbors=5)"
   ]
  },
  {
   "cell_type": "code",
   "execution_count": 7,
   "id": "94cef26a",
   "metadata": {},
   "outputs": [
    {
     "data": {
      "text/plain": [
       "KNeighborsClassifier()"
      ]
     },
     "execution_count": 7,
     "metadata": {},
     "output_type": "execute_result"
    }
   ],
   "source": [
    "# 模型训练\n",
    "estimator.fit(x_train,y_train)"
   ]
  },
  {
   "cell_type": "markdown",
   "id": "dda92006",
   "metadata": {},
   "source": [
    "## 5.模型评估"
   ]
  },
  {
   "cell_type": "code",
   "execution_count": 9,
   "id": "3352ee08",
   "metadata": {},
   "outputs": [
    {
     "name": "stdout",
     "output_type": "stream",
     "text": [
      "预测值是：\n",
      " [1 2 1 1 0 1 1 0 0 0 2 1 0 2 1 1 2 0 2 1 1 0 1 2 2 1 0 0 1 2]\n",
      "预测值与真实值对比：\n",
      " [ True False  True  True  True  True  True  True  True  True  True  True\n",
      "  True  True  True  True  True  True  True  True False  True  True  True\n",
      "  True  True  True  True  True  True]\n"
     ]
    }
   ],
   "source": [
    "#  由模型得到预测值\n",
    "y_pre = estimator.predict(x_test)\n",
    "print(\"预测值是：\\n\",y_pre)\n",
    "print(\"预测值与真实值对比：\\n\",y_pre==y_test)\n",
    "\n"
   ]
  },
  {
   "cell_type": "code",
   "execution_count": 10,
   "id": "ef34bb8c",
   "metadata": {},
   "outputs": [
    {
     "name": "stdout",
     "output_type": "stream",
     "text": [
      "准确率：\n",
      " 0.9333333333333333\n"
     ]
    }
   ],
   "source": [
    "# 输出准确率\n",
    "ret = estimator.score(x_test,y_test)\n",
    "print(\"准确率：\\n\",ret)"
   ]
  }
 ],
 "metadata": {
  "kernelspec": {
   "display_name": "Python 3 (ipykernel)",
   "language": "python",
   "name": "python3"
  },
  "language_info": {
   "codemirror_mode": {
    "name": "ipython",
    "version": 3
   },
   "file_extension": ".py",
   "mimetype": "text/x-python",
   "name": "python",
   "nbconvert_exporter": "python",
   "pygments_lexer": "ipython3",
   "version": "3.9.12"
  }
 },
 "nbformat": 4,
 "nbformat_minor": 5
}
