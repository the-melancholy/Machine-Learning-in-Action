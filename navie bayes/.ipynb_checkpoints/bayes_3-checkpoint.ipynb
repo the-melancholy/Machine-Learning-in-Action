{
 "cells": [
  {
   "cell_type": "code",
   "execution_count": 29,
   "id": "a32e7986",
   "metadata": {},
   "outputs": [],
   "source": [
    "import numpy as np\n",
    "from functools import reduce"
   ]
  },
  {
   "cell_type": "code",
   "execution_count": 30,
   "id": "c7d01c37",
   "metadata": {},
   "outputs": [],
   "source": [
    "def loadDataSet():\n",
    "    postingList =[]\n",
    "    classVec = []  \n",
    "    with open('dataSet_3.txt') as fr:\n",
    "        data_temp=[inst.strip().split('\\t') for inst in fr.readlines()]\n",
    "    labels = data_temp[0]\n",
    "    data_temp= data_temp[1:]\n",
    "    length = len(data_temp[0])\n",
    "    for data in data_temp:\n",
    "        postingList.append(data[:length-1])\n",
    "        if(data[length - 1] =='否'):\n",
    "            classVec.append(0)               #类别标签向量，1代表属于鱼类，0代表不属于\n",
    "        else:\n",
    "            classVec.append(1)   \n",
    "    return postingList,classVec         \n"
   ]
  },
  {
   "cell_type": "code",
   "execution_count": 31,
   "id": "4bacb121",
   "metadata": {},
   "outputs": [],
   "source": [
    "def createVocabList(dataSet):\n",
    "    vocabSet = set([])                      #创建一个空的不重复列表\n",
    "    for document in dataSet:\n",
    "        vocabSet = vocabSet | set(document) #取并集\n",
    "    return list(vocabSet)\n"
   ]
  },
  {
   "cell_type": "code",
   "execution_count": 32,
   "id": "19ca1cbd",
   "metadata": {},
   "outputs": [],
   "source": [
    "def setOfWords2Vec(vocabList, inputSet):\n",
    "    returnVec = [0] * len(vocabList)                                    #创建一个其中所含元素都为0的向量\n",
    "    for word in inputSet:                                                #遍历每个词条\n",
    "        if word in vocabList:                                            #如果词条存在于词汇表中，则置1\n",
    "            returnVec[vocabList.index(word)] = 1\n",
    "        else: print(\"the word: %s is not in my Vocabulary!\" % word)\n",
    "    return returnVec     \n"
   ]
  },
  {
   "cell_type": "code",
   "execution_count": 33,
   "id": "0bc331fe",
   "metadata": {},
   "outputs": [],
   "source": [
    "def trainNB0(trainMatrix,trainCategory):\n",
    "    numTrainDocs = len(trainMatrix)                            #计算训练的文档数目\n",
    "    numWords = len(trainMatrix[0])                            #计算每篇文档的词条数\n",
    "    pAbusive = sum(trainCategory)/float(numTrainDocs)        #文档属于侮辱类的概率\n",
    "    p0Num = np.ones(numWords); p1Num = np.ones(numWords)    #创建numpy.zeros数组,词条出现数初始化为0\n",
    "    p0Denom = 2.0; p1Denom = 2.0                            #分母初始化为0\n",
    "    for i in range(numTrainDocs):\n",
    "        if trainCategory[i] == 1:                            #统计属于侮辱类的条件概率所需的数据，即P(w0|1),P(w1|1),P(w2|1)···\n",
    "            p1Num += trainMatrix[i]\n",
    "            p1Denom += sum(trainMatrix[i])\n",
    "        else:                                                #统计属于非侮辱类的条件概率所需的数据，即P(w0|0),P(w1|0),P(w2|0)···\n",
    "            p0Num += trainMatrix[i]\n",
    "            p0Denom += sum(trainMatrix[i])\n",
    "    p1Vect =np.log(p1Num/p1Denom  )                                     \n",
    "    p0Vect =np.log(p0Num/p0Denom  )        \n",
    "    return p0Vect,p1Vect,pAbusive \n"
   ]
  },
  {
   "cell_type": "code",
   "execution_count": 34,
   "id": "b4d1020a",
   "metadata": {},
   "outputs": [],
   "source": [
    "def classifyNB(vec2Classify, p0Vec, p1Vec, pClass1):\n",
    "    p1 = reduce(lambda x,y:x*y, vec2Classify * p1Vec) * pClass1    #对应元素相乘\n",
    "    p0 = reduce(lambda x,y:x*y, vec2Classify * p0Vec) * (1.0 - pClass1)\n",
    "    print('p0:',p0)\n",
    "    print('p1:',p1)\n",
    "    if p1 > p0:\n",
    "        return 1\n",
    "    else: \n",
    "        return 0\n"
   ]
  },
  {
   "cell_type": "code",
   "execution_count": 35,
   "id": "9453a3b8",
   "metadata": {},
   "outputs": [],
   "source": [
    "def testingNB(testEntry):\n",
    "    listOPosts,listClasses = loadDataSet()\n",
    "    myVocabList = createVocabList(listOPosts)#创建词汇表\n",
    "    trainMat=[]\n",
    "    for postinDoc in listOPosts:\n",
    "        trainMat.append(setOfWords2Vec(myVocabList, postinDoc))#将实验样本向量化\n",
    "    p0V,p1V,pAb = trainNB0(np.array(trainMat),np.array(listClasses))#训练朴素贝叶斯分类器\n",
    "    thisDoc = np.array(setOfWords2Vec(myVocabList, testEntry))#测试样本向量化\n",
    "    if classifyNB(thisDoc,p0V,p1V,pAb):\n",
    "        print(testEntry,'属于鱼类')#执行分类并打印分类结果\n",
    "    else:\n",
    "        print(testEntry,'不属于鱼类') \n",
    "    \n"
   ]
  },
  {
   "cell_type": "code",
   "execution_count": 36,
   "id": "1a45eab8",
   "metadata": {
    "scrolled": false
   },
   "outputs": [
    {
     "name": "stdout",
     "output_type": "stream",
     "text": [
      "p0: 0.2882718083509208\n",
      "p1: 0.15952481393407508\n",
      "['否', '是'] 不属于鱼类\n"
     ]
    }
   ],
   "source": [
    "if __name__ == '__main__':\n",
    "    testEntry = ['否','是']   #测试样本1\n",
    "    testingNB(testEntry)"
   ]
  }
 ],
 "metadata": {
  "kernelspec": {
   "display_name": "Python 3 (ipykernel)",
   "language": "python",
   "name": "python3"
  },
  "language_info": {
   "codemirror_mode": {
    "name": "ipython",
    "version": 3
   },
   "file_extension": ".py",
   "mimetype": "text/x-python",
   "name": "python",
   "nbconvert_exporter": "python",
   "pygments_lexer": "ipython3",
   "version": "3.9.12"
  }
 },
 "nbformat": 4,
 "nbformat_minor": 5
}
