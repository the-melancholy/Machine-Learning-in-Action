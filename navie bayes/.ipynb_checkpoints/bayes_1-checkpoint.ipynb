{
 "cells": [
  {
   "cell_type": "code",
   "execution_count": 13,
   "id": "a32e7986",
   "metadata": {},
   "outputs": [],
   "source": [
    "import numpy as np\n",
    "from functools import reduce"
   ]
  },
  {
   "cell_type": "code",
   "execution_count": 14,
   "id": "c7d01c37",
   "metadata": {},
   "outputs": [],
   "source": [
    "def loadDataSet():\n",
    "    postingList=[['my', 'dog', 'has', 'flea', 'problems', 'help', 'please'],                #切分的词条\n",
    "                 ['maybe', 'not', 'take', 'him', 'to', 'dog', 'park', 'stupid'],\n",
    "                 ['my', 'dalmation', 'is', 'so', 'cute', 'I', 'love', 'him'],\n",
    "                 ['stop', 'posting', 'stupid', 'worthless', 'garbage'],\n",
    "                 ['mr', 'licks', 'ate', 'my', 'steak', 'how', 'to', 'stop', 'him'],\n",
    "                 ['quit', 'buying', 'worthless', 'dog', 'food', 'stupid']]\n",
    "    classVec = [0,1,0,1,0,1]                                                                   #类别标签向量，1代表侮辱性词汇，0代表不是\n",
    "    return postingList,classVec\n"
   ]
  },
  {
   "cell_type": "code",
   "execution_count": 15,
   "id": "4bacb121",
   "metadata": {},
   "outputs": [],
   "source": [
    "def createVocabList(dataSet):\n",
    "    vocabSet = set([])                      #创建一个空的不重复列表\n",
    "    for document in dataSet:\n",
    "        vocabSet = vocabSet | set(document) #取并集\n",
    "    return list(vocabSet)\n"
   ]
  },
  {
   "cell_type": "code",
   "execution_count": 16,
   "id": "19ca1cbd",
   "metadata": {},
   "outputs": [],
   "source": [
    "def setOfWords2Vec(vocabList, inputSet):\n",
    "    returnVec = [0] * len(vocabList)                                    #创建一个其中所含元素都为0的向量\n",
    "    for word in inputSet:                                                #遍历每个词条\n",
    "        if word in vocabList:                                            #如果词条存在于词汇表中，则置1\n",
    "            returnVec[vocabList.index(word)] = 1\n",
    "        else: print(\"the word: %s is not in my Vocabulary!\" % word)\n",
    "    return returnVec     \n"
   ]
  },
  {
   "cell_type": "code",
   "execution_count": 17,
   "id": "0bc331fe",
   "metadata": {},
   "outputs": [],
   "source": [
    "def trainNB0(trainMatrix,trainCategory):\n",
    "    numTrainDocs = len(trainMatrix)                            #计算训练的文档数目\n",
    "    numWords = len(trainMatrix[0])                            #计算每篇文档的词条数\n",
    "    pAbusive = sum(trainCategory)/float(numTrainDocs)        #文档属于侮辱类的概率\n",
    "    p0Num = np.ones(numWords); p1Num = np.ones(numWords)    #创建numpy.zeros数组,词条出现数初始化为0\n",
    "    p0Denom = 2.0; p1Denom = 2.0                            #分母初始化为0\n",
    "    for i in range(numTrainDocs):\n",
    "        if trainCategory[i] == 1:                            #统计属于侮辱类的条件概率所需的数据，即P(w0|1),P(w1|1),P(w2|1)···\n",
    "            p1Num += trainMatrix[i]\n",
    "            p1Denom += sum(trainMatrix[i])\n",
    "        else:                                                #统计属于非侮辱类的条件概率所需的数据，即P(w0|0),P(w1|0),P(w2|0)···\n",
    "            p0Num += trainMatrix[i]\n",
    "            p0Denom += sum(trainMatrix[i])\n",
    "    p1Vect =np.log(p1Num/p1Denom  )                                     \n",
    "    p0Vect =np.log(p0Num/p0Denom  )        \n",
    "    return p0Vect,p1Vect,pAbusive \n"
   ]
  },
  {
   "cell_type": "code",
   "execution_count": 21,
   "id": "497377e5",
   "metadata": {
    "scrolled": true
   },
   "outputs": [
    {
     "name": "stdout",
     "output_type": "stream",
     "text": [
      "myVocabList:\n",
      " ['has', 'worthless', 'stop', 'take', 'steak', 'mr', 'him', 'so', 'is', 'my', 'stupid', 'park', 'flea', 'dalmation', 'help', 'please', 'problems', 'licks', 'maybe', 'ate', 'garbage', 'buying', 'how', 'to', 'not', 'dog', 'quit', 'cute', 'love', 'posting', 'food', 'I']\n",
      "trainMat:\n",
      " [[1, 0, 0, 0, 0, 0, 0, 0, 0, 1, 0, 0, 1, 0, 1, 1, 1, 0, 0, 0, 0, 0, 0, 0, 0, 1, 0, 0, 0, 0, 0, 0], [0, 0, 0, 1, 0, 0, 1, 0, 0, 0, 1, 1, 0, 0, 0, 0, 0, 0, 1, 0, 0, 0, 0, 1, 1, 1, 0, 0, 0, 0, 0, 0], [0, 0, 0, 0, 0, 0, 1, 1, 1, 1, 0, 0, 0, 1, 0, 0, 0, 0, 0, 0, 0, 0, 0, 0, 0, 0, 0, 1, 1, 0, 0, 1], [0, 1, 1, 0, 0, 0, 0, 0, 0, 0, 1, 0, 0, 0, 0, 0, 0, 0, 0, 0, 1, 0, 0, 0, 0, 0, 0, 0, 0, 1, 0, 0], [0, 0, 1, 0, 1, 1, 1, 0, 0, 1, 0, 0, 0, 0, 0, 0, 0, 1, 0, 1, 0, 0, 1, 1, 0, 0, 0, 0, 0, 0, 0, 0], [0, 1, 0, 0, 0, 0, 0, 0, 0, 0, 1, 0, 0, 0, 0, 0, 0, 0, 0, 0, 0, 1, 0, 0, 0, 1, 1, 0, 0, 0, 1, 0]]\n",
      "p0V:\n",
      " [-2.56494936 -3.25809654 -2.56494936 -3.25809654 -2.56494936 -2.56494936\n",
      " -2.15948425 -2.56494936 -2.56494936 -1.87180218 -3.25809654 -3.25809654\n",
      " -2.56494936 -2.56494936 -2.56494936 -2.56494936 -2.56494936 -2.56494936\n",
      " -3.25809654 -2.56494936 -3.25809654 -3.25809654 -2.56494936 -2.56494936\n",
      " -3.25809654 -2.56494936 -3.25809654 -2.56494936 -2.56494936 -3.25809654\n",
      " -3.25809654 -2.56494936]\n",
      "p1V:\n",
      " [-3.04452244 -1.94591015 -2.35137526 -2.35137526 -3.04452244 -3.04452244\n",
      " -2.35137526 -3.04452244 -3.04452244 -3.04452244 -1.65822808 -2.35137526\n",
      " -3.04452244 -3.04452244 -3.04452244 -3.04452244 -3.04452244 -3.04452244\n",
      " -2.35137526 -3.04452244 -2.35137526 -2.35137526 -3.04452244 -2.35137526\n",
      " -2.35137526 -1.94591015 -2.35137526 -3.04452244 -3.04452244 -2.35137526\n",
      " -2.35137526 -3.04452244]\n",
      "classVec:\n",
      " [0, 1, 0, 1, 0, 1]\n",
      "pAb:\n",
      " 0.5\n"
     ]
    }
   ],
   "source": [
    "# if __name__ == '__main__':\n",
    "#     postingList, classVec = loadDataSet()\n",
    "#     myVocabList = createVocabList(postingList)\n",
    "#     print('myVocabList:\\n', myVocabList)\n",
    "#     trainMat = []\n",
    "#     for postinDoc in postingList:\n",
    "#         trainMat.append(setOfWords2Vec(myVocabList, postinDoc))\n",
    "#     print('trainMat:\\n',trainMat)\n",
    "#     p0V, p1V, pAb = trainNB0(trainMat, classVec)\n",
    "#     print('p0V:\\n', p0V)\n",
    "#     print('p1V:\\n', p1V)\n",
    "#     print('classVec:\\n', classVec)\n",
    "#     print('pAb:\\n', pAb)\n"
   ]
  },
  {
   "cell_type": "code",
   "execution_count": null,
   "id": "b4d1020a",
   "metadata": {},
   "outputs": [],
   "source": [
    "def classifyNB(vec2Classify, p0Vec, p1Vec, pClass1):\n",
    "    p1 = reduce(lambda x,y:x*y, vec2Classify * p1Vec) * pClass1    #对应元素相乘\n",
    "    p0 = reduce(lambda x,y:x*y, vec2Classify * p0Vec) * (1.0 - pClass1)\n",
    "    print('p0:',p0)\n",
    "    print('p1:',p1)\n",
    "    if p1 > p0:\n",
    "        return 1\n",
    "    else: \n",
    "        return 0\n"
   ]
  },
  {
   "cell_type": "code",
   "execution_count": null,
   "id": "9453a3b8",
   "metadata": {},
   "outputs": [],
   "source": [
    "def testingNB():\n",
    "    listOPosts,listClasses = loadDataSet()#创建实验样本\n",
    "    myVocabList = createVocabList(listOPosts)#创建词汇表\n",
    "    trainMat=[]\n",
    "    for postinDoc in listOPosts:\n",
    "        trainMat.append(setOfWords2Vec(myVocabList, postinDoc))#将实验样本向量化\n",
    "    p0V,p1V,pAb = trainNB0(np.array(trainMat),np.array(listClasses))#训练朴素贝叶斯分类器\n",
    "    testEntry = ['love', 'my', 'dalmation']#测试样本1\n",
    "    thisDoc = np.array(setOfWords2Vec(myVocabList, testEntry))#测试样本向量化\n",
    "    if classifyNB(thisDoc,p0V,p1V,pAb):\n",
    "        print(testEntry,'属于侮辱类')#执行分类并打印分类结果\n",
    "    else:\n",
    "        print(testEntry,'属于非侮辱类')#执行分类并打印分类结果\n",
    "    testEntry = ['stupid', 'garbage']#测试样本2\n",
    "\n",
    "    thisDoc = np.array(setOfWords2Vec(myVocabList, testEntry))#测试样本向量化\n",
    "    if classifyNB(thisDoc,p0V,p1V,pAb):\n",
    "        print(testEntry,'属于侮辱类')     #执行分类并打印分类结果\n",
    "    else:\n",
    "        print(testEntry,'属于非侮辱类')    #执行分类并打印分类结果\n"
   ]
  },
  {
   "cell_type": "code",
   "execution_count": null,
   "id": "1a45eab8",
   "metadata": {},
   "outputs": [],
   "source": [
    "if __name__ == '__main__':\n",
    "\ttestingNB()"
   ]
  },
  {
   "cell_type": "code",
   "execution_count": null,
   "id": "2c369254",
   "metadata": {},
   "outputs": [],
   "source": []
  }
 ],
 "metadata": {
  "kernelspec": {
   "display_name": "Python 3 (ipykernel)",
   "language": "python",
   "name": "python3"
  },
  "language_info": {
   "codemirror_mode": {
    "name": "ipython",
    "version": 3
   },
   "file_extension": ".py",
   "mimetype": "text/x-python",
   "name": "python",
   "nbconvert_exporter": "python",
   "pygments_lexer": "ipython3",
   "version": "3.9.12"
  }
 },
 "nbformat": 4,
 "nbformat_minor": 5
}
