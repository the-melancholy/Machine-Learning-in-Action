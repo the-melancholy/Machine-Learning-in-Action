{
 "cells": [
  {
   "cell_type": "code",
   "execution_count": 4,
   "id": "5c6552d9",
   "metadata": {},
   "outputs": [
    {
     "data": {
      "text/plain": [
       "'\\n    基于decesion tree的bagging方法，数据集为sklearn.datasets.load_breast_cancer()\\n'"
      ]
     },
     "execution_count": 4,
     "metadata": {},
     "output_type": "execute_result"
    }
   ],
   "source": [
    "'''\n",
    "    基于decesion tree的bagging方法，数据集为sklearn.datasets.load_breast_cancer()\n",
    "'''"
   ]
  },
  {
   "cell_type": "code",
   "execution_count": 5,
   "id": "9389588f",
   "metadata": {},
   "outputs": [],
   "source": [
    "from sklearn.ensemble import BaggingClassifier # 导入 Bagging 分类器\n",
    "from sklearn.tree import DecisionTreeClassifier  # 导入决策树分类器\n",
    "from sklearn.metrics import accuracy_score # 导入准确率评估函数\n",
    "from sklearn import datasets,model_selection # 导入数据集和模型选择模块"
   ]
  },
  {
   "cell_type": "code",
   "execution_count": 6,
   "id": "cabc7f5f",
   "metadata": {},
   "outputs": [],
   "source": [
    "# 定义一个函数来加载数据\n",
    "def load_data():\n",
    "    caner =datasets.load_breast_cancer()# 加载 scikit-learn 自带的 caner数据集\n",
    "    X_train=caner.data # 获取特征数据\n",
    "    y_train=caner.target # 获取标签数据\n",
    "    # 划分训练集和测试集\n",
    "    return model_selection.train_test_split(X_train, y_train,test_size=0.25,random_state=0,stratify=y_train)"
   ]
  },
  {
   "cell_type": "code",
   "execution_count": 7,
   "id": "35dd5b08",
   "metadata": {},
   "outputs": [
    {
     "name": "stdout",
     "output_type": "stream",
     "text": [
      "y_pre: [1 0 0 1 1 1 0 0 0 1 0 0 1 0 1 1 1 0 1 0 1 0 0 1 1 0 1 0 1 0 0 1 0 1 1 1 0\n",
      " 0 0 1 0 0 0 1 1 1 1 1 0 1 0 1 1 1 1 1 1 1 0 1 1 1 1 0 0 0 0 1 1 0 1 1 1 1\n",
      " 1 0 1 1 1 0 1 1 0 0 0 1 1 1 1 1 1 0 0 1 1 0 1 1 1 0 0 0 1 1 1 1 0 0 1 1 1\n",
      " 0 1 1 1 1 1 1 1 1 1 1 1 1 0 1 1 0 1 1 1 0 1 1 1 1 0 1 0 1 0 1 0]\n",
      "y_test: [1 0 0 1 0 1 0 0 0 1 0 0 0 1 1 1 1 0 0 0 1 0 0 1 1 0 1 1 1 0 1 1 1 1 1 1 0\n",
      " 0 0 1 0 0 0 0 1 1 1 1 0 1 0 1 1 1 1 1 1 1 1 1 0 1 1 0 0 0 0 1 1 0 1 1 1 1\n",
      " 1 0 1 1 1 0 1 1 0 0 0 1 1 1 1 1 1 0 0 1 0 0 1 1 1 0 0 1 0 1 1 1 0 0 1 1 1\n",
      " 0 1 1 1 1 1 1 1 1 1 1 1 1 0 1 1 0 1 1 1 0 1 1 1 1 0 1 0 1 0 1 0]\n",
      "accuracy: 0.9090909090909091\n"
     ]
    }
   ],
   "source": [
    "# 创建 Bagging 分类器\n",
    "bagging = BaggingClassifier(DecisionTreeClassifier(),max_samples=0.1,max_features=0.5,random_state=1) \n",
    "\n",
    "X_train,X_test,y_train,y_test=load_data() # 加载数据\n",
    "\n",
    "\n",
    "bagging.fit(X_train,y_train) # 训练模型\n",
    "y_pre = bagging.predict(X_test) # 预测测试集\n",
    "print('y_pre:',y_pre)\n",
    "print('y_test:',y_test)\n",
    "print('accuracy:',accuracy_score(y_test,y_pre)) # 输出准确率"
   ]
  },
  {
   "cell_type": "code",
   "execution_count": null,
   "id": "aeb31eef",
   "metadata": {},
   "outputs": [],
   "source": []
  }
 ],
 "metadata": {
  "kernelspec": {
   "display_name": "Python 3 (ipykernel)",
   "language": "python",
   "name": "python3"
  },
  "language_info": {
   "codemirror_mode": {
    "name": "ipython",
    "version": 3
   },
   "file_extension": ".py",
   "mimetype": "text/x-python",
   "name": "python",
   "nbconvert_exporter": "python",
   "pygments_lexer": "ipython3",
   "version": "3.9.12"
  }
 },
 "nbformat": 4,
 "nbformat_minor": 5
}
