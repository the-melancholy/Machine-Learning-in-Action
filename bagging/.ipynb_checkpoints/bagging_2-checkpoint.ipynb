{
 "cells": [
  {
   "cell_type": "code",
   "execution_count": 2,
   "id": "d98820f2",
   "metadata": {},
   "outputs": [
    {
     "data": {
      "text/plain": [
       "'\\n    基于knn的bagging方法，数据集为sklearn.datasets.load_wine()\\n'"
      ]
     },
     "execution_count": 2,
     "metadata": {},
     "output_type": "execute_result"
    }
   ],
   "source": [
    "'''\n",
    "    基于knn的bagging方法，数据集为sklearn.datasets.load_wine()\n",
    "'''"
   ]
  },
  {
   "cell_type": "code",
   "execution_count": 3,
   "id": "23cfb942",
   "metadata": {},
   "outputs": [],
   "source": [
    "from sklearn.ensemble import BaggingClassifier # 导入 Bagging 分类器\n",
    "from sklearn.neighbors import KNeighborsClassifier # 导入 KNN 分类器\n",
    "from sklearn.metrics import accuracy_score # 导入准确率评估函数\n",
    "from sklearn import datasets,model_selection # 导入数据集和模型选择模块"
   ]
  },
  {
   "cell_type": "code",
   "execution_count": 4,
   "id": "9ebd0efc",
   "metadata": {},
   "outputs": [],
   "source": [
    "# 定义一个函数来加载数据\n",
    "def load_data():\n",
    "    wine =datasets.load_wine()# 加载 scikit-learn 自带的 wine数据集\n",
    "    X_train=wine.data # 获取特征数据\n",
    "    y_train=wine.target # 获取标签数据\n",
    "    # 划分训练集和测试集\n",
    "    return model_selection.train_test_split(X_train, y_train,test_size=0.25,random_state=0,stratify=y_train)"
   ]
  },
  {
   "cell_type": "code",
   "execution_count": 5,
   "id": "13b12069",
   "metadata": {},
   "outputs": [
    {
     "name": "stdout",
     "output_type": "stream",
     "text": [
      "y_pre: [2 1 1 0 1 2 2 1 0 1 0 0 1 1 0 0 0 1 2 0 0 0 1 0 1 0 1 0 1 0 1 1 1 1 1 0 1\n",
      " 1 1 1 0 1 0 1 1]\n",
      "y_test: [2 0 1 0 2 2 2 2 0 2 0 0 1 2 0 0 0 1 2 0 0 2 2 2 1 0 1 0 1 0 1 1 1 1 1 0 1\n",
      " 1 2 1 1 1 0 1 1]\n",
      "accuracy: 0.7777777777777778\n"
     ]
    }
   ],
   "source": [
    "# 创建 Bagging 分类器\n",
    "bagging = BaggingClassifier(KNeighborsClassifier(),max_samples=0.1,max_features=0.5,random_state=1) \n",
    "\n",
    "X_train,X_test,y_train,y_test=load_data() # 加载数据\n",
    "\n",
    "\n",
    "bagging.fit(X_train,y_train) # 训练模型\n",
    "y_pre = bagging.predict(X_test) # 预测测试集\n",
    "print('y_pre:',y_pre)\n",
    "print('y_test:',y_test)\n",
    "print('accuracy:',accuracy_score(y_test,y_pre)) # 输出准确率"
   ]
  }
 ],
 "metadata": {
  "kernelspec": {
   "display_name": "Python 3 (ipykernel)",
   "language": "python",
   "name": "python3"
  },
  "language_info": {
   "codemirror_mode": {
    "name": "ipython",
    "version": 3
   },
   "file_extension": ".py",
   "mimetype": "text/x-python",
   "name": "python",
   "nbconvert_exporter": "python",
   "pygments_lexer": "ipython3",
   "version": "3.9.12"
  }
 },
 "nbformat": 4,
 "nbformat_minor": 5
}
